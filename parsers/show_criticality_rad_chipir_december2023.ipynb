{
 "cells": [
  {
   "cell_type": "code",
   "execution_count": 7,
   "outputs": [],
   "source": [
    "import pandas as pd\n",
    "import matplotlib.pyplot as plt"
   ],
   "metadata": {
    "collapsed": false,
    "ExecuteTime": {
     "end_time": "2023-12-09T22:15:37.675271169Z",
     "start_time": "2023-12-09T22:15:37.631261489Z"
    }
   },
   "id": "1610e1be7b19bd12"
  },
  {
   "cell_type": "code",
   "execution_count": 8,
   "id": "9b9f9d1c-95f4-407e-ac60-696d80eab5de",
   "metadata": {
    "ExecuteTime": {
     "end_time": "2023-12-09T22:15:37.675527302Z",
     "start_time": "2023-12-09T22:15:37.675134370Z"
    }
   },
   "outputs": [],
   "source": [
    "df = pd.read_csv(\"../data/parsed_logs_rad.csv\")"
   ]
  },
  {
   "cell_type": "code",
   "execution_count": 9,
   "outputs": [],
   "source": [
    "df = df[df[\"hostname\"] == \"carolp20002\"].copy()\n",
    "df = df.drop([\"batch_size\", \"it\"], axis=\"columns\")"
   ],
   "metadata": {
    "collapsed": false,
    "ExecuteTime": {
     "end_time": "2023-12-09T22:15:37.675599591Z",
     "start_time": "2023-12-09T22:15:37.675250307Z"
    }
   },
   "id": "bbd7d3ac5e3ab28"
  },
  {
   "cell_type": "code",
   "execution_count": 10,
   "outputs": [
    {
     "data": {
      "text/plain": "array(['eva02_large_patch14_448.mim_in22k_ft_in22k_in1k',\n       'vit_large_patch14_clip_224.laion2b_ft_in12k_in1k',\n       'maxvit_large_tf_384.in21k_ft_in1k',\n       'vit_huge_patch14_clip_224.laion2b_ft_in12k_in1k',\n       'swinv2_large_window12to16_192to256.ms_in22k_ft_in1k',\n       'maxvit_large_tf_512.in21k_ft_in1k'], dtype=object)"
     },
     "execution_count": 10,
     "metadata": {},
     "output_type": "execute_result"
    }
   ],
   "source": [
    "df[\"config\"].unique()"
   ],
   "metadata": {
    "collapsed": false,
    "ExecuteTime": {
     "end_time": "2023-12-09T22:15:37.676064202Z",
     "start_time": "2023-12-09T22:15:37.675382703Z"
    }
   },
   "id": "35ffd1ca70b4da57"
  },
  {
   "cell_type": "code",
   "execution_count": 11,
   "id": "67491d89-1160-4a1b-b522-8f9d89a2bcaa",
   "metadata": {
    "ExecuteTime": {
     "end_time": "2023-12-09T22:15:37.685392990Z",
     "start_time": "2023-12-09T22:15:37.675424518Z"
    }
   },
   "outputs": [],
   "source": [
    "configs = dict(\n",
    "    ViTPatch16Base_224=\"vit_base_patch16_224\",\n",
    "    ViTPatch16Base_384=\"vit_base_patch16_384\",\n",
    "    VitPatch32BaseSam_224=\"vit_base_patch32_224.sam\",\n",
    "    ViTPatch32Base_384=\"vit_base_patch32_384\",\n",
    "    ViTPatch14Huge_224=\"vit_huge_patch14_clip_224.laion2b_ft_in12k_in1k\",\n",
    "    ViTPatch14Huge_336=\"vit_huge_patch14_clip_336.laion2b_ft_in12k_in1k\",\n",
    "    ViTPatch14Large_224=\"vit_large_patch14_clip_224.laion2b_ft_in12k_in1k\",\n",
    "    SwinV2Large12to24_192to384='swinv2_large_window12to24_192to384.ms_in22k_ft_in1k',\n",
    "    SwinV2Large12to16_192to384='swinv2_large_window12to16_192to256.ms_in22k_ft_in1k',\n",
    "    EVABasePatch14_448='eva02_base_patch14_448.mim_in22k_ft_in22k_in1k',\n",
    "    EfficientFormerL7='efficientformer_l7.snap_dist_in1k',\n",
    "    EfficientFormerL1='efficientformer_l1.snap_dist_in1k',\n",
    "    EfficientFormerL3='efficientformer_l3.snap_dist_in1k',\n",
    "    EfficientNetB7='tf_efficientnet_b7',\n",
    "    EVALargePatch14_448='eva02_large_patch14_448.mim_in22k_ft_in22k_in1k',\n",
    "    MaxViTLarge_384='maxvit_large_tf_384.in21k_ft_in1k',\n",
    "    MaxViTLarge512='maxvit_large_tf_512.in21k_ft_in1k'\n",
    ")\n",
    "configs_inv = {v.replace(\".yaml\", \"\"): k for k, v in configs.items()}"
   ]
  },
  {
   "cell_type": "code",
   "execution_count": 12,
   "id": "46d5c87d-df10-4fb2-b355-67a24b1d2c4a",
   "metadata": {
    "ExecuteTime": {
     "end_time": "2023-12-09T22:15:37.719101523Z",
     "start_time": "2023-12-09T22:15:37.678666376Z"
    }
   },
   "outputs": [],
   "source": [
    "df[\"config\"] = df[\"config\"].apply(lambda x: configs_inv[x])"
   ]
  },
  {
   "cell_type": "code",
   "execution_count": 13,
   "outputs": [],
   "source": [
    "df = df[df[\"sdc_threshold\"] == 0.01]\n"
   ],
   "metadata": {
    "collapsed": false,
    "ExecuteTime": {
     "end_time": "2023-12-09T22:15:37.719309681Z",
     "start_time": "2023-12-09T22:15:37.718979986Z"
    }
   },
   "id": "2e7ccd49c3facce2"
  },
  {
   "cell_type": "code",
   "execution_count": 14,
   "outputs": [],
   "source": [
    "grouped = df.groupby([\"hostname\", \"ecc\", \"config\", \"hardened_id\"]).sum()"
   ],
   "metadata": {
    "collapsed": false,
    "ExecuteTime": {
     "end_time": "2023-12-09T22:15:37.719384453Z",
     "start_time": "2023-12-09T22:15:37.719073965Z"
    }
   },
   "id": "1aa6cb93b341b680"
  },
  {
   "cell_type": "code",
   "execution_count": 15,
   "outputs": [],
   "source": [
    "grouped[\"rate_sdc\"] = grouped[\"sdc\"] / grouped[\"acc_time\"]\n",
    "grouped[\"rate_critical\"] = grouped[\"critical_sdc\"] / grouped[\"acc_time\"]\n"
   ],
   "metadata": {
    "collapsed": false,
    "ExecuteTime": {
     "end_time": "2023-12-09T22:15:37.763094369Z",
     "start_time": "2023-12-09T22:15:37.719200346Z"
    }
   },
   "id": "8394084aefebe511"
  },
  {
   "cell_type": "code",
   "execution_count": 16,
   "outputs": [
    {
     "data": {
      "text/plain": "                                                           acc_time  sdc  \\\nhostname    ecc config                     hardened_id                     \ncarolp20002 OFF EVALargePatch14_448        False        8382.750902   75   \n                                           True         4990.343512  108   \n                MaxViTLarge512             False        1372.229129    7   \n                                           True         1144.877486    1   \n                MaxViTLarge_384            False        2907.044296  141   \n                                           True         1989.689813  107   \n                SwinV2Large12to16_192to384 False        1760.515945    9   \n                                           True         1950.969600   35   \n                ViTPatch14Huge_224         False        6188.807182   94   \n                                           True         3533.680085   56   \n                ViTPatch14Large_224        False        3222.411681  343   \n                                           True         3475.135918   74   \n\n                                                        critical_sdc  \\\nhostname    ecc config                     hardened_id                 \ncarolp20002 OFF EVALargePatch14_448        False                  27   \n                                           True                    0   \n                MaxViTLarge512             False                   5   \n                                           True                    0   \n                MaxViTLarge_384            False                  10   \n                                           True                    1   \n                SwinV2Large12to16_192to384 False                   2   \n                                           True                   13   \n                ViTPatch14Huge_224         False                   6   \n                                           True                    2   \n                ViTPatch14Large_224        False                 283   \n                                           True                    3   \n\n                                                        rate_sdc  \\\nhostname    ecc config                     hardened_id             \ncarolp20002 OFF EVALargePatch14_448        False        0.008947   \n                                           True         0.021642   \n                MaxViTLarge512             False        0.005101   \n                                           True         0.000873   \n                MaxViTLarge_384            False        0.048503   \n                                           True         0.053777   \n                SwinV2Large12to16_192to384 False        0.005112   \n                                           True         0.017940   \n                ViTPatch14Huge_224         False        0.015189   \n                                           True         0.015848   \n                ViTPatch14Large_224        False        0.106442   \n                                           True         0.021294   \n\n                                                        rate_critical  \nhostname    ecc config                     hardened_id                 \ncarolp20002 OFF EVALargePatch14_448        False             0.003221  \n                                           True              0.000000  \n                MaxViTLarge512             False             0.003644  \n                                           True              0.000000  \n                MaxViTLarge_384            False             0.003440  \n                                           True              0.000503  \n                SwinV2Large12to16_192to384 False             0.001136  \n                                           True              0.006663  \n                ViTPatch14Huge_224         False             0.000969  \n                                           True              0.000566  \n                ViTPatch14Large_224        False             0.087822  \n                                           True              0.000863  ",
      "text/html": "<div>\n<style scoped>\n    .dataframe tbody tr th:only-of-type {\n        vertical-align: middle;\n    }\n\n    .dataframe tbody tr th {\n        vertical-align: top;\n    }\n\n    .dataframe thead th {\n        text-align: right;\n    }\n</style>\n<table border=\"1\" class=\"dataframe\">\n  <thead>\n    <tr style=\"text-align: right;\">\n      <th></th>\n      <th></th>\n      <th></th>\n      <th></th>\n      <th>acc_time</th>\n      <th>sdc</th>\n      <th>critical_sdc</th>\n      <th>rate_sdc</th>\n      <th>rate_critical</th>\n    </tr>\n    <tr>\n      <th>hostname</th>\n      <th>ecc</th>\n      <th>config</th>\n      <th>hardened_id</th>\n      <th></th>\n      <th></th>\n      <th></th>\n      <th></th>\n      <th></th>\n    </tr>\n  </thead>\n  <tbody>\n    <tr>\n      <th rowspan=\"12\" valign=\"top\">carolp20002</th>\n      <th rowspan=\"12\" valign=\"top\">OFF</th>\n      <th rowspan=\"2\" valign=\"top\">EVALargePatch14_448</th>\n      <th>False</th>\n      <td>8382.750902</td>\n      <td>75</td>\n      <td>27</td>\n      <td>0.008947</td>\n      <td>0.003221</td>\n    </tr>\n    <tr>\n      <th>True</th>\n      <td>4990.343512</td>\n      <td>108</td>\n      <td>0</td>\n      <td>0.021642</td>\n      <td>0.000000</td>\n    </tr>\n    <tr>\n      <th rowspan=\"2\" valign=\"top\">MaxViTLarge512</th>\n      <th>False</th>\n      <td>1372.229129</td>\n      <td>7</td>\n      <td>5</td>\n      <td>0.005101</td>\n      <td>0.003644</td>\n    </tr>\n    <tr>\n      <th>True</th>\n      <td>1144.877486</td>\n      <td>1</td>\n      <td>0</td>\n      <td>0.000873</td>\n      <td>0.000000</td>\n    </tr>\n    <tr>\n      <th rowspan=\"2\" valign=\"top\">MaxViTLarge_384</th>\n      <th>False</th>\n      <td>2907.044296</td>\n      <td>141</td>\n      <td>10</td>\n      <td>0.048503</td>\n      <td>0.003440</td>\n    </tr>\n    <tr>\n      <th>True</th>\n      <td>1989.689813</td>\n      <td>107</td>\n      <td>1</td>\n      <td>0.053777</td>\n      <td>0.000503</td>\n    </tr>\n    <tr>\n      <th rowspan=\"2\" valign=\"top\">SwinV2Large12to16_192to384</th>\n      <th>False</th>\n      <td>1760.515945</td>\n      <td>9</td>\n      <td>2</td>\n      <td>0.005112</td>\n      <td>0.001136</td>\n    </tr>\n    <tr>\n      <th>True</th>\n      <td>1950.969600</td>\n      <td>35</td>\n      <td>13</td>\n      <td>0.017940</td>\n      <td>0.006663</td>\n    </tr>\n    <tr>\n      <th rowspan=\"2\" valign=\"top\">ViTPatch14Huge_224</th>\n      <th>False</th>\n      <td>6188.807182</td>\n      <td>94</td>\n      <td>6</td>\n      <td>0.015189</td>\n      <td>0.000969</td>\n    </tr>\n    <tr>\n      <th>True</th>\n      <td>3533.680085</td>\n      <td>56</td>\n      <td>2</td>\n      <td>0.015848</td>\n      <td>0.000566</td>\n    </tr>\n    <tr>\n      <th rowspan=\"2\" valign=\"top\">ViTPatch14Large_224</th>\n      <th>False</th>\n      <td>3222.411681</td>\n      <td>343</td>\n      <td>283</td>\n      <td>0.106442</td>\n      <td>0.087822</td>\n    </tr>\n    <tr>\n      <th>True</th>\n      <td>3475.135918</td>\n      <td>74</td>\n      <td>3</td>\n      <td>0.021294</td>\n      <td>0.000863</td>\n    </tr>\n  </tbody>\n</table>\n</div>"
     },
     "execution_count": 16,
     "metadata": {},
     "output_type": "execute_result"
    }
   ],
   "source": [
    "grouped[[\"acc_time\", \"sdc\", \"critical_sdc\", \"rate_sdc\", \"rate_critical\"]]"
   ],
   "metadata": {
    "collapsed": false,
    "ExecuteTime": {
     "end_time": "2023-12-09T22:15:37.764049620Z",
     "start_time": "2023-12-09T22:15:37.763009938Z"
    }
   },
   "id": "83ed304c1181892e"
  },
  {
   "cell_type": "code",
   "execution_count": 16,
   "outputs": [],
   "source": [],
   "metadata": {
    "collapsed": false,
    "ExecuteTime": {
     "end_time": "2023-12-09T22:15:37.764388423Z",
     "start_time": "2023-12-09T22:15:37.763191580Z"
    }
   },
   "id": "814724bd8cb30e46"
  }
 ],
 "metadata": {
  "kernelspec": {
   "display_name": "Python 3 (ipykernel)",
   "language": "python",
   "name": "python3"
  },
  "language_info": {
   "codemirror_mode": {
    "name": "ipython",
    "version": 3
   },
   "file_extension": ".py",
   "mimetype": "text/x-python",
   "name": "python",
   "nbconvert_exporter": "python",
   "pygments_lexer": "ipython3",
   "version": "3.8.10"
  }
 },
 "nbformat": 4,
 "nbformat_minor": 5
}
