{
 "cells": [
  {
   "cell_type": "code",
   "execution_count": 1,
   "metadata": {
    "collapsed": true,
    "ExecuteTime": {
     "end_time": "2023-04-28T20:24:07.043792728Z",
     "start_time": "2023-04-28T20:24:06.708669520Z"
    }
   },
   "outputs": [],
   "source": [
    "import pandas as pd\n",
    "OUTPUT_DATABASE = \"../data/profile_layers.csv\""
   ]
  },
  {
   "cell_type": "markdown",
   "source": [
    "# Transformers models characteristics"
   ],
   "metadata": {
    "collapsed": false
   }
  },
  {
   "cell_type": "code",
   "execution_count": 2,
   "outputs": [],
   "source": [
    "df_trans = pd.read_csv(OUTPUT_DATABASE)"
   ],
   "metadata": {
    "collapsed": false,
    "ExecuteTime": {
     "end_time": "2023-04-28T15:18:08.923198789Z",
     "start_time": "2023-04-28T15:18:08.914185917Z"
    }
   }
  },
  {
   "cell_type": "code",
   "execution_count": 3,
   "outputs": [
    {
     "data": {
      "text/plain": "                                                 net        layer   \n0                                          resnet50d       Conv2d  \\\n1                                          resnet50d  BatchNorm2d   \n2                                          resnet50d         ReLU   \n3                                          resnet50d       Conv2d   \n4                                          resnet50d  BatchNorm2d   \n...                                              ...          ...   \n8563  eva02_base_patch14_448.mim_in22k_ft_in22k_in1k      Dropout   \n8564  eva02_base_patch14_448.mim_in22k_ft_in22k_in1k     Identity   \n8565  eva02_base_patch14_448.mim_in22k_ft_in22k_in1k     Identity   \n8566  eva02_base_patch14_448.mim_in22k_ft_in22k_in1k    LayerNorm   \n8567  eva02_base_patch14_448.mim_in22k_ft_in22k_in1k       Linear   \n\n      layer_params  depth  output_size  \n0              864      2       401408  \n1               64      2       401408  \n2                0      2       401408  \n3             9216      2       401408  \n4               64      2       401408  \n...            ...    ...          ...  \n8563             0      4       787200  \n8564             0      3       787200  \n8565             0      1       787200  \n8566          1536      1          768  \n8567        769000      1         1000  \n\n[8568 rows x 5 columns]",
      "text/html": "<div>\n<style scoped>\n    .dataframe tbody tr th:only-of-type {\n        vertical-align: middle;\n    }\n\n    .dataframe tbody tr th {\n        vertical-align: top;\n    }\n\n    .dataframe thead th {\n        text-align: right;\n    }\n</style>\n<table border=\"1\" class=\"dataframe\">\n  <thead>\n    <tr style=\"text-align: right;\">\n      <th></th>\n      <th>net</th>\n      <th>layer</th>\n      <th>layer_params</th>\n      <th>depth</th>\n      <th>output_size</th>\n    </tr>\n  </thead>\n  <tbody>\n    <tr>\n      <th>0</th>\n      <td>resnet50d</td>\n      <td>Conv2d</td>\n      <td>864</td>\n      <td>2</td>\n      <td>401408</td>\n    </tr>\n    <tr>\n      <th>1</th>\n      <td>resnet50d</td>\n      <td>BatchNorm2d</td>\n      <td>64</td>\n      <td>2</td>\n      <td>401408</td>\n    </tr>\n    <tr>\n      <th>2</th>\n      <td>resnet50d</td>\n      <td>ReLU</td>\n      <td>0</td>\n      <td>2</td>\n      <td>401408</td>\n    </tr>\n    <tr>\n      <th>3</th>\n      <td>resnet50d</td>\n      <td>Conv2d</td>\n      <td>9216</td>\n      <td>2</td>\n      <td>401408</td>\n    </tr>\n    <tr>\n      <th>4</th>\n      <td>resnet50d</td>\n      <td>BatchNorm2d</td>\n      <td>64</td>\n      <td>2</td>\n      <td>401408</td>\n    </tr>\n    <tr>\n      <th>...</th>\n      <td>...</td>\n      <td>...</td>\n      <td>...</td>\n      <td>...</td>\n      <td>...</td>\n    </tr>\n    <tr>\n      <th>8563</th>\n      <td>eva02_base_patch14_448.mim_in22k_ft_in22k_in1k</td>\n      <td>Dropout</td>\n      <td>0</td>\n      <td>4</td>\n      <td>787200</td>\n    </tr>\n    <tr>\n      <th>8564</th>\n      <td>eva02_base_patch14_448.mim_in22k_ft_in22k_in1k</td>\n      <td>Identity</td>\n      <td>0</td>\n      <td>3</td>\n      <td>787200</td>\n    </tr>\n    <tr>\n      <th>8565</th>\n      <td>eva02_base_patch14_448.mim_in22k_ft_in22k_in1k</td>\n      <td>Identity</td>\n      <td>0</td>\n      <td>1</td>\n      <td>787200</td>\n    </tr>\n    <tr>\n      <th>8566</th>\n      <td>eva02_base_patch14_448.mim_in22k_ft_in22k_in1k</td>\n      <td>LayerNorm</td>\n      <td>1536</td>\n      <td>1</td>\n      <td>768</td>\n    </tr>\n    <tr>\n      <th>8567</th>\n      <td>eva02_base_patch14_448.mim_in22k_ft_in22k_in1k</td>\n      <td>Linear</td>\n      <td>769000</td>\n      <td>1</td>\n      <td>1000</td>\n    </tr>\n  </tbody>\n</table>\n<p>8568 rows × 5 columns</p>\n</div>"
     },
     "execution_count": 3,
     "metadata": {},
     "output_type": "execute_result"
    }
   ],
   "source": [
    "df_trans"
   ],
   "metadata": {
    "collapsed": false,
    "ExecuteTime": {
     "end_time": "2023-04-28T15:18:08.954277320Z",
     "start_time": "2023-04-28T15:18:08.930667524Z"
    }
   }
  },
  {
   "cell_type": "code",
   "execution_count": 4,
   "outputs": [],
   "source": [
    "df_trans[\"para_by_depth\"] = df_trans[\"layer_params\"] * df_trans[\"depth\"]"
   ],
   "metadata": {
    "collapsed": false,
    "ExecuteTime": {
     "end_time": "2023-04-28T15:18:08.957315054Z",
     "start_time": "2023-04-28T15:18:08.942801198Z"
    }
   }
  },
  {
   "cell_type": "code",
   "execution_count": null,
   "outputs": [],
   "source": [
    "details_df = df_trans.groupby([\"net\", \"layer\"]).describe()\n"
   ],
   "metadata": {
    "collapsed": false,
    "is_executing": true,
    "ExecuteTime": {
     "start_time": "2023-04-28T15:18:08.946848939Z"
    }
   }
  },
  {
   "cell_type": "code",
   "execution_count": null,
   "outputs": [],
   "source": [
    "details_df[\"counter\"] = details_df.loc[:, pd.IndexSlice[\"layer_params\", \"count\"]]\n"
   ],
   "metadata": {
    "collapsed": false,
    "is_executing": true
   }
  },
  {
   "cell_type": "code",
   "execution_count": null,
   "outputs": [],
   "source": [
    "details_df = details_df.drop([\"count\", \"std\", \"25%\", \"50%\", \"75%\"], level=1, axis=\"columns\")"
   ],
   "metadata": {
    "collapsed": false,
    "is_executing": true
   }
  },
  {
   "cell_type": "code",
   "execution_count": null,
   "outputs": [],
   "source": [
    "details_df.to_excel(\"/tmp/profile.xlsx\")"
   ],
   "metadata": {
    "collapsed": false,
    "is_executing": true
   }
  },
  {
   "cell_type": "code",
   "execution_count": null,
   "outputs": [],
   "source": [],
   "metadata": {
    "collapsed": false,
    "is_executing": true
   }
  }
 ],
 "metadata": {
  "kernelspec": {
   "display_name": "Python 3",
   "language": "python",
   "name": "python3"
  },
  "language_info": {
   "codemirror_mode": {
    "name": "ipython",
    "version": 2
   },
   "file_extension": ".py",
   "mimetype": "text/x-python",
   "name": "python",
   "nbconvert_exporter": "python",
   "pygments_lexer": "ipython2",
   "version": "2.7.6"
  }
 },
 "nbformat": 4,
 "nbformat_minor": 0
}
