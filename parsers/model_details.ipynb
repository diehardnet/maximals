{
 "cells": [
  {
   "cell_type": "code",
   "execution_count": 1,
   "metadata": {
    "collapsed": true,
    "ExecuteTime": {
     "start_time": "2023-03-21T18:42:46.968701Z",
     "end_time": "2023-03-21T18:42:48.744143Z"
    }
   },
   "outputs": [
    {
     "name": "stderr",
     "output_type": "stream",
     "text": [
      "/home/carol/.local/lib/python3.9/site-packages/tqdm/auto.py:21: TqdmWarning: IProgress not found. Please update jupyter and ipywidgets. See https://ipywidgets.readthedocs.io/en/stable/user_install.html\n",
      "  from .autonotebook import tqdm as notebook_tqdm\n"
     ]
    }
   ],
   "source": [
    "import pandas as pd\n",
    "from profile_models import OUTPUT_DATABASE"
   ]
  },
  {
   "cell_type": "markdown",
   "source": [
    "# Transformers models characteristics"
   ],
   "metadata": {
    "collapsed": false
   }
  },
  {
   "cell_type": "code",
   "execution_count": 2,
   "outputs": [],
   "source": [
    "df_trans = pd.read_csv(OUTPUT_DATABASE)"
   ],
   "metadata": {
    "collapsed": false,
    "ExecuteTime": {
     "start_time": "2023-03-21T18:42:48.746530Z",
     "end_time": "2023-03-21T18:42:48.753945Z"
    }
   }
  },
  {
   "cell_type": "code",
   "execution_count": 3,
   "outputs": [
    {
     "data": {
      "text/plain": "                                            net        layer  layer_params  \\\n0                                     resnet50d       Conv2d           864   \n1                                     resnet50d  BatchNorm2d            64   \n2                                     resnet50d         ReLU             0   \n3                                     resnet50d       Conv2d          9216   \n4                                     resnet50d  BatchNorm2d            64   \n...                                         ...          ...           ...   \n5645  swinv2_base_window12to24_192to384_22kft1k    LayerNorm          2048   \n5646  swinv2_base_window12to24_192to384_22kft1k     DropPath             0   \n5647  swinv2_base_window12to24_192to384_22kft1k     Identity             0   \n5648  swinv2_base_window12to24_192to384_22kft1k    LayerNorm          2048   \n5649  swinv2_base_window12to24_192to384_22kft1k       Linear       1025000   \n\n      depth  output_size  \n0         2       401408  \n1         2       401408  \n2         2       401408  \n3         2       401408  \n4         2       401408  \n...     ...          ...  \n5645      5       147456  \n5646      5       147456  \n5647      3       147456  \n5648      1       147456  \n5649      1         1000  \n\n[5650 rows x 5 columns]",
      "text/html": "<div>\n<style scoped>\n    .dataframe tbody tr th:only-of-type {\n        vertical-align: middle;\n    }\n\n    .dataframe tbody tr th {\n        vertical-align: top;\n    }\n\n    .dataframe thead th {\n        text-align: right;\n    }\n</style>\n<table border=\"1\" class=\"dataframe\">\n  <thead>\n    <tr style=\"text-align: right;\">\n      <th></th>\n      <th>net</th>\n      <th>layer</th>\n      <th>layer_params</th>\n      <th>depth</th>\n      <th>output_size</th>\n    </tr>\n  </thead>\n  <tbody>\n    <tr>\n      <th>0</th>\n      <td>resnet50d</td>\n      <td>Conv2d</td>\n      <td>864</td>\n      <td>2</td>\n      <td>401408</td>\n    </tr>\n    <tr>\n      <th>1</th>\n      <td>resnet50d</td>\n      <td>BatchNorm2d</td>\n      <td>64</td>\n      <td>2</td>\n      <td>401408</td>\n    </tr>\n    <tr>\n      <th>2</th>\n      <td>resnet50d</td>\n      <td>ReLU</td>\n      <td>0</td>\n      <td>2</td>\n      <td>401408</td>\n    </tr>\n    <tr>\n      <th>3</th>\n      <td>resnet50d</td>\n      <td>Conv2d</td>\n      <td>9216</td>\n      <td>2</td>\n      <td>401408</td>\n    </tr>\n    <tr>\n      <th>4</th>\n      <td>resnet50d</td>\n      <td>BatchNorm2d</td>\n      <td>64</td>\n      <td>2</td>\n      <td>401408</td>\n    </tr>\n    <tr>\n      <th>...</th>\n      <td>...</td>\n      <td>...</td>\n      <td>...</td>\n      <td>...</td>\n      <td>...</td>\n    </tr>\n    <tr>\n      <th>5645</th>\n      <td>swinv2_base_window12to24_192to384_22kft1k</td>\n      <td>LayerNorm</td>\n      <td>2048</td>\n      <td>5</td>\n      <td>147456</td>\n    </tr>\n    <tr>\n      <th>5646</th>\n      <td>swinv2_base_window12to24_192to384_22kft1k</td>\n      <td>DropPath</td>\n      <td>0</td>\n      <td>5</td>\n      <td>147456</td>\n    </tr>\n    <tr>\n      <th>5647</th>\n      <td>swinv2_base_window12to24_192to384_22kft1k</td>\n      <td>Identity</td>\n      <td>0</td>\n      <td>3</td>\n      <td>147456</td>\n    </tr>\n    <tr>\n      <th>5648</th>\n      <td>swinv2_base_window12to24_192to384_22kft1k</td>\n      <td>LayerNorm</td>\n      <td>2048</td>\n      <td>1</td>\n      <td>147456</td>\n    </tr>\n    <tr>\n      <th>5649</th>\n      <td>swinv2_base_window12to24_192to384_22kft1k</td>\n      <td>Linear</td>\n      <td>1025000</td>\n      <td>1</td>\n      <td>1000</td>\n    </tr>\n  </tbody>\n</table>\n<p>5650 rows × 5 columns</p>\n</div>"
     },
     "execution_count": 3,
     "metadata": {},
     "output_type": "execute_result"
    }
   ],
   "source": [
    "df_trans"
   ],
   "metadata": {
    "collapsed": false,
    "ExecuteTime": {
     "start_time": "2023-03-21T18:42:48.761996Z",
     "end_time": "2023-03-21T18:42:48.781005Z"
    }
   }
  },
  {
   "cell_type": "code",
   "execution_count": 4,
   "outputs": [],
   "source": [
    "df_trans[\"para_by_depth\"] = df_trans[\"layer_params\"] * df_trans[\"depth\"]"
   ],
   "metadata": {
    "collapsed": false,
    "ExecuteTime": {
     "start_time": "2023-03-21T18:42:48.769806Z",
     "end_time": "2023-03-21T18:42:48.781432Z"
    }
   }
  },
  {
   "cell_type": "code",
   "execution_count": 5,
   "outputs": [],
   "source": [
    "gp_df_trans = df_trans.groupby([\"net\", \"layer\"]).mean()"
   ],
   "metadata": {
    "collapsed": false,
    "ExecuteTime": {
     "start_time": "2023-03-21T18:42:48.776656Z",
     "end_time": "2023-03-21T18:42:48.781959Z"
    }
   }
  },
  {
   "cell_type": "code",
   "execution_count": 6,
   "outputs": [],
   "source": [
    "gp_df_trans = gp_df_trans[gp_df_trans['para_by_depth'] != 0]"
   ],
   "metadata": {
    "collapsed": false,
    "ExecuteTime": {
     "start_time": "2023-03-21T18:42:48.782291Z",
     "end_time": "2023-03-21T18:42:48.854978Z"
    }
   }
  },
  {
   "cell_type": "code",
   "execution_count": 7,
   "outputs": [
    {
     "data": {
      "text/plain": "                                                        layer_params  \\\nnet                                        layer                       \nresnet200d                                 Linear       2.049000e+06   \nresnet50d                                  Linear       2.049000e+06   \ntf_efficientnet_b7                         Linear       2.561000e+06   \nvit_base_patch32_384                       Conv2d       2.360064e+06   \n                                           LayerNorm    1.536000e+03   \nvit_base_patch16_224                       Conv2d       5.905920e+05   \n                                           LayerNorm    1.536000e+03   \nswinv2_base_window12to16_192to256_22kft1k  LayerNorm    1.019170e+03   \nresnet200d                                 BatchNorm2d  8.591610e+02   \n                                           Conv2d       3.047216e+05   \nresnet50d                                  BatchNorm2d  9.681455e+02   \n                                           Conv2d       4.268003e+05   \nvit_base_patch32_384                       Linear       1.750747e+06   \nswinv2_large_window12to16_192to256_22kft1k LayerNorm    1.528755e+03   \nvit_large_patch14_clip_224                 Conv2d       6.021120e+05   \n                                           LayerNorm    2.048000e+03   \nswinv2_base_window12to16_192to256_22kft1k  Linear       5.394785e+05   \nvit_huge_patch14_clip_224                  Conv2d       7.526400e+05   \n                                           LayerNorm    2.560000e+03   \nvit_base_patch16_224                       Linear       1.750747e+06   \nswinv2_base_window12to24_192to384_22kft1k  LayerNorm    1.019170e+03   \nswinv2_large_window12to16_192to256_22kft1k Linear       1.205650e+06   \nswinv2_base_window12to16_192to256_22kft1k  Conv2d       6.272000e+03   \nswinv2_large_window12to24_192to384_22kft1k LayerNorm    1.528755e+03   \nvit_large_patch14_clip_224                 Linear       3.126145e+06   \nvit_large_patch14_clip_336                 Conv2d       6.021120e+05   \n                                           LayerNorm    2.048000e+03   \nswinv2_base_window12to24_192to384_22kft1k  Linear       5.394785e+05   \nvit_huge_patch14_clip_224                  Linear       4.889886e+06   \nvit_huge_patch14_clip_336                  Conv2d       7.526400e+05   \n                                           LayerNorm    2.560000e+03   \nswinv2_large_window12to16_192to256_22kft1k Conv2d       9.408000e+03   \nswinv2_large_window12to24_192to384_22kft1k Linear       1.205650e+06   \ntf_efficientnet_b7                         Conv2d       2.366704e+05   \nswinv2_base_window12to24_192to384_22kft1k  Conv2d       6.272000e+03   \nvit_large_patch14_clip_336                 Linear       3.126145e+06   \nvit_huge_patch14_clip_336                  Linear       4.889886e+06   \nswinv2_large_window12to24_192to384_22kft1k Conv2d       9.408000e+03   \ntf_efficientnet_b7                         Conv2dSame   9.715200e+03   \n\n                                                           depth  \\\nnet                                        layer                   \nresnet200d                                 Linear       1.000000   \nresnet50d                                  Linear       1.000000   \ntf_efficientnet_b7                         Linear       1.000000   \nvit_base_patch32_384                       Conv2d       2.000000   \n                                           LayerNorm    2.920000   \nvit_base_patch16_224                       Conv2d       2.000000   \n                                           LayerNorm    2.920000   \nswinv2_base_window12to16_192to256_22kft1k  LayerNorm    4.811321   \nresnet200d                                 BatchNorm2d  3.000000   \n                                           Conv2d       3.004878   \nresnet50d                                  BatchNorm2d  3.000000   \n                                           Conv2d       3.018182   \nvit_base_patch32_384                       Linear       3.938776   \nswinv2_large_window12to16_192to256_22kft1k LayerNorm    4.811321   \nvit_large_patch14_clip_224                 Conv2d       2.000000   \n                                           LayerNorm    2.920000   \nswinv2_base_window12to16_192to256_22kft1k  Linear       6.298387   \nvit_huge_patch14_clip_224                  Conv2d       2.000000   \n                                           LayerNorm    2.939394   \nvit_base_patch16_224                       Linear       3.938776   \nswinv2_base_window12to24_192to384_22kft1k  LayerNorm    4.811321   \nswinv2_large_window12to16_192to256_22kft1k Linear       6.298387   \nswinv2_base_window12to16_192to256_22kft1k  Conv2d       2.000000   \nswinv2_large_window12to24_192to384_22kft1k LayerNorm    4.811321   \nvit_large_patch14_clip_224                 Linear       3.969072   \nvit_large_patch14_clip_336                 Conv2d       2.000000   \n                                           LayerNorm    2.920000   \nswinv2_base_window12to24_192to384_22kft1k  Linear       6.298387   \nvit_huge_patch14_clip_224                  Linear       3.976744   \nvit_huge_patch14_clip_336                  Conv2d       2.000000   \n                                           LayerNorm    2.939394   \nswinv2_large_window12to16_192to256_22kft1k Conv2d       2.000000   \nswinv2_large_window12to24_192to384_22kft1k Linear       6.298387   \ntf_efficientnet_b7                         Conv2d       4.399254   \nswinv2_base_window12to24_192to384_22kft1k  Conv2d       2.000000   \nvit_large_patch14_clip_336                 Linear       3.969072   \nvit_huge_patch14_clip_336                  Linear       3.976744   \nswinv2_large_window12to24_192to384_22kft1k Conv2d       2.000000   \ntf_efficientnet_b7                         Conv2dSame   3.400000   \n\n                                                         output_size  \\\nnet                                        layer                       \nresnet200d                                 Linear       1.000000e+03   \nresnet50d                                  Linear       1.000000e+03   \ntf_efficientnet_b7                         Linear       1.000000e+03   \nvit_base_patch32_384                       Conv2d       1.105920e+05   \n                                           LayerNorm    1.113600e+05   \nvit_base_patch16_224                       Conv2d       1.505280e+05   \n                                           LayerNorm    1.512960e+05   \nswinv2_base_window12to16_192to256_22kft1k  LayerNorm    1.731140e+05   \nresnet200d                                 BatchNorm2d  2.101947e+05   \n                                           Conv2d       2.101947e+05   \nresnet50d                                  BatchNorm2d  2.166691e+05   \n                                           Conv2d       2.166691e+05   \nvit_base_patch32_384                       Linear       2.454669e+05   \nswinv2_large_window12to16_192to256_22kft1k LayerNorm    2.596709e+05   \nvit_large_patch14_clip_224                 Conv2d       2.621440e+05   \n                                           LayerNorm    2.631680e+05   \nswinv2_base_window12to16_192to256_22kft1k  Linear       2.920039e+05   \nvit_huge_patch14_clip_224                  Conv2d       3.276800e+05   \n                                           LayerNorm    3.289600e+05   \nvit_base_patch16_224                       Linear       3.334891e+05   \nswinv2_base_window12to24_192to384_22kft1k  LayerNorm    3.895064e+05   \nswinv2_large_window12to16_192to256_22kft1k Linear       3.934247e+05   \nswinv2_base_window12to16_192to256_22kft1k  Conv2d       5.242880e+05   \nswinv2_large_window12to24_192to384_22kft1k LayerNorm    5.842596e+05   \nvit_large_patch14_clip_224                 Linear       5.860339e+05   \nvit_large_patch14_clip_336                 Conv2d       5.898240e+05   \n                                           LayerNorm    5.908480e+05   \nswinv2_base_window12to24_192to384_22kft1k  Linear       6.615626e+05   \nvit_huge_patch14_clip_224                  Linear       7.344301e+05   \nvit_huge_patch14_clip_336                  Conv2d       7.372800e+05   \n                                           LayerNorm    7.385600e+05   \nswinv2_large_window12to16_192to256_22kft1k Conv2d       7.864320e+05   \nswinv2_large_window12to24_192to384_22kft1k Linear       8.898242e+05   \ntf_efficientnet_b7                         Conv2d       1.033807e+06   \nswinv2_base_window12to24_192to384_22kft1k  Conv2d       1.179648e+06   \nvit_large_patch14_clip_336                 Linear       1.315713e+06   \nvit_huge_patch14_clip_336                  Linear       1.648886e+06   \nswinv2_large_window12to24_192to384_22kft1k Conv2d       1.769472e+06   \ntf_efficientnet_b7                         Conv2dSame   2.575661e+06   \n\n                                                        para_by_depth  \nnet                                        layer                       \nresnet200d                                 Linear        2.049000e+06  \nresnet50d                                  Linear        2.049000e+06  \ntf_efficientnet_b7                         Linear        2.561000e+06  \nvit_base_patch32_384                       Conv2d        4.720128e+06  \n                                           LayerNorm     4.485120e+03  \nvit_base_patch16_224                       Conv2d        1.181184e+06  \n                                           LayerNorm     4.485120e+03  \nswinv2_base_window12to16_192to256_22kft1k  LayerNorm     4.859170e+03  \nresnet200d                                 BatchNorm2d   2.613073e+03  \n                                           Conv2d        9.275326e+05  \nresnet50d                                  BatchNorm2d   3.037091e+03  \n                                           Conv2d        1.330226e+06  \nvit_base_patch32_384                       Linear        6.955906e+06  \nswinv2_large_window12to16_192to256_22kft1k LayerNorm     7.288755e+03  \nvit_large_patch14_clip_224                 Conv2d        1.204224e+06  \n                                           LayerNorm     5.980160e+03  \nswinv2_base_window12to16_192to256_22kft1k  Linear        3.152995e+06  \nvit_huge_patch14_clip_224                  Conv2d        1.505280e+06  \n                                           LayerNorm     7.524848e+03  \nvit_base_patch16_224                       Linear        6.955906e+06  \nswinv2_base_window12to24_192to384_22kft1k  LayerNorm     4.859170e+03  \nswinv2_large_window12to16_192to256_22kft1k Linear        7.074663e+06  \nswinv2_base_window12to16_192to256_22kft1k  Conv2d        1.254400e+04  \nswinv2_large_window12to24_192to384_22kft1k LayerNorm     7.288755e+03  \nvit_large_patch14_clip_224                 Linear        1.247288e+07  \nvit_large_patch14_clip_336                 Conv2d        1.204224e+06  \n                                           LayerNorm     5.980160e+03  \nswinv2_base_window12to24_192to384_22kft1k  Linear        3.152995e+06  \nvit_huge_patch14_clip_224                  Linear        1.952975e+07  \nvit_huge_patch14_clip_336                  Conv2d        1.505280e+06  \n                                           LayerNorm     7.524848e+03  \nswinv2_large_window12to16_192to256_22kft1k Conv2d        1.881600e+04  \nswinv2_large_window12to24_192to384_22kft1k Linear        7.074663e+06  \ntf_efficientnet_b7                         Conv2d        9.730170e+05  \nswinv2_base_window12to24_192to384_22kft1k  Conv2d        1.254400e+04  \nvit_large_patch14_clip_336                 Linear        1.247288e+07  \nvit_huge_patch14_clip_336                  Linear        1.952975e+07  \nswinv2_large_window12to24_192to384_22kft1k Conv2d        1.881600e+04  \ntf_efficientnet_b7                         Conv2dSame    3.782400e+04  ",
      "text/html": "<div>\n<style scoped>\n    .dataframe tbody tr th:only-of-type {\n        vertical-align: middle;\n    }\n\n    .dataframe tbody tr th {\n        vertical-align: top;\n    }\n\n    .dataframe thead th {\n        text-align: right;\n    }\n</style>\n<table border=\"1\" class=\"dataframe\">\n  <thead>\n    <tr style=\"text-align: right;\">\n      <th></th>\n      <th></th>\n      <th>layer_params</th>\n      <th>depth</th>\n      <th>output_size</th>\n      <th>para_by_depth</th>\n    </tr>\n    <tr>\n      <th>net</th>\n      <th>layer</th>\n      <th></th>\n      <th></th>\n      <th></th>\n      <th></th>\n    </tr>\n  </thead>\n  <tbody>\n    <tr>\n      <th>resnet200d</th>\n      <th>Linear</th>\n      <td>2.049000e+06</td>\n      <td>1.000000</td>\n      <td>1.000000e+03</td>\n      <td>2.049000e+06</td>\n    </tr>\n    <tr>\n      <th>resnet50d</th>\n      <th>Linear</th>\n      <td>2.049000e+06</td>\n      <td>1.000000</td>\n      <td>1.000000e+03</td>\n      <td>2.049000e+06</td>\n    </tr>\n    <tr>\n      <th>tf_efficientnet_b7</th>\n      <th>Linear</th>\n      <td>2.561000e+06</td>\n      <td>1.000000</td>\n      <td>1.000000e+03</td>\n      <td>2.561000e+06</td>\n    </tr>\n    <tr>\n      <th rowspan=\"2\" valign=\"top\">vit_base_patch32_384</th>\n      <th>Conv2d</th>\n      <td>2.360064e+06</td>\n      <td>2.000000</td>\n      <td>1.105920e+05</td>\n      <td>4.720128e+06</td>\n    </tr>\n    <tr>\n      <th>LayerNorm</th>\n      <td>1.536000e+03</td>\n      <td>2.920000</td>\n      <td>1.113600e+05</td>\n      <td>4.485120e+03</td>\n    </tr>\n    <tr>\n      <th rowspan=\"2\" valign=\"top\">vit_base_patch16_224</th>\n      <th>Conv2d</th>\n      <td>5.905920e+05</td>\n      <td>2.000000</td>\n      <td>1.505280e+05</td>\n      <td>1.181184e+06</td>\n    </tr>\n    <tr>\n      <th>LayerNorm</th>\n      <td>1.536000e+03</td>\n      <td>2.920000</td>\n      <td>1.512960e+05</td>\n      <td>4.485120e+03</td>\n    </tr>\n    <tr>\n      <th>swinv2_base_window12to16_192to256_22kft1k</th>\n      <th>LayerNorm</th>\n      <td>1.019170e+03</td>\n      <td>4.811321</td>\n      <td>1.731140e+05</td>\n      <td>4.859170e+03</td>\n    </tr>\n    <tr>\n      <th rowspan=\"2\" valign=\"top\">resnet200d</th>\n      <th>BatchNorm2d</th>\n      <td>8.591610e+02</td>\n      <td>3.000000</td>\n      <td>2.101947e+05</td>\n      <td>2.613073e+03</td>\n    </tr>\n    <tr>\n      <th>Conv2d</th>\n      <td>3.047216e+05</td>\n      <td>3.004878</td>\n      <td>2.101947e+05</td>\n      <td>9.275326e+05</td>\n    </tr>\n    <tr>\n      <th rowspan=\"2\" valign=\"top\">resnet50d</th>\n      <th>BatchNorm2d</th>\n      <td>9.681455e+02</td>\n      <td>3.000000</td>\n      <td>2.166691e+05</td>\n      <td>3.037091e+03</td>\n    </tr>\n    <tr>\n      <th>Conv2d</th>\n      <td>4.268003e+05</td>\n      <td>3.018182</td>\n      <td>2.166691e+05</td>\n      <td>1.330226e+06</td>\n    </tr>\n    <tr>\n      <th>vit_base_patch32_384</th>\n      <th>Linear</th>\n      <td>1.750747e+06</td>\n      <td>3.938776</td>\n      <td>2.454669e+05</td>\n      <td>6.955906e+06</td>\n    </tr>\n    <tr>\n      <th>swinv2_large_window12to16_192to256_22kft1k</th>\n      <th>LayerNorm</th>\n      <td>1.528755e+03</td>\n      <td>4.811321</td>\n      <td>2.596709e+05</td>\n      <td>7.288755e+03</td>\n    </tr>\n    <tr>\n      <th rowspan=\"2\" valign=\"top\">vit_large_patch14_clip_224</th>\n      <th>Conv2d</th>\n      <td>6.021120e+05</td>\n      <td>2.000000</td>\n      <td>2.621440e+05</td>\n      <td>1.204224e+06</td>\n    </tr>\n    <tr>\n      <th>LayerNorm</th>\n      <td>2.048000e+03</td>\n      <td>2.920000</td>\n      <td>2.631680e+05</td>\n      <td>5.980160e+03</td>\n    </tr>\n    <tr>\n      <th>swinv2_base_window12to16_192to256_22kft1k</th>\n      <th>Linear</th>\n      <td>5.394785e+05</td>\n      <td>6.298387</td>\n      <td>2.920039e+05</td>\n      <td>3.152995e+06</td>\n    </tr>\n    <tr>\n      <th rowspan=\"2\" valign=\"top\">vit_huge_patch14_clip_224</th>\n      <th>Conv2d</th>\n      <td>7.526400e+05</td>\n      <td>2.000000</td>\n      <td>3.276800e+05</td>\n      <td>1.505280e+06</td>\n    </tr>\n    <tr>\n      <th>LayerNorm</th>\n      <td>2.560000e+03</td>\n      <td>2.939394</td>\n      <td>3.289600e+05</td>\n      <td>7.524848e+03</td>\n    </tr>\n    <tr>\n      <th>vit_base_patch16_224</th>\n      <th>Linear</th>\n      <td>1.750747e+06</td>\n      <td>3.938776</td>\n      <td>3.334891e+05</td>\n      <td>6.955906e+06</td>\n    </tr>\n    <tr>\n      <th>swinv2_base_window12to24_192to384_22kft1k</th>\n      <th>LayerNorm</th>\n      <td>1.019170e+03</td>\n      <td>4.811321</td>\n      <td>3.895064e+05</td>\n      <td>4.859170e+03</td>\n    </tr>\n    <tr>\n      <th>swinv2_large_window12to16_192to256_22kft1k</th>\n      <th>Linear</th>\n      <td>1.205650e+06</td>\n      <td>6.298387</td>\n      <td>3.934247e+05</td>\n      <td>7.074663e+06</td>\n    </tr>\n    <tr>\n      <th>swinv2_base_window12to16_192to256_22kft1k</th>\n      <th>Conv2d</th>\n      <td>6.272000e+03</td>\n      <td>2.000000</td>\n      <td>5.242880e+05</td>\n      <td>1.254400e+04</td>\n    </tr>\n    <tr>\n      <th>swinv2_large_window12to24_192to384_22kft1k</th>\n      <th>LayerNorm</th>\n      <td>1.528755e+03</td>\n      <td>4.811321</td>\n      <td>5.842596e+05</td>\n      <td>7.288755e+03</td>\n    </tr>\n    <tr>\n      <th>vit_large_patch14_clip_224</th>\n      <th>Linear</th>\n      <td>3.126145e+06</td>\n      <td>3.969072</td>\n      <td>5.860339e+05</td>\n      <td>1.247288e+07</td>\n    </tr>\n    <tr>\n      <th rowspan=\"2\" valign=\"top\">vit_large_patch14_clip_336</th>\n      <th>Conv2d</th>\n      <td>6.021120e+05</td>\n      <td>2.000000</td>\n      <td>5.898240e+05</td>\n      <td>1.204224e+06</td>\n    </tr>\n    <tr>\n      <th>LayerNorm</th>\n      <td>2.048000e+03</td>\n      <td>2.920000</td>\n      <td>5.908480e+05</td>\n      <td>5.980160e+03</td>\n    </tr>\n    <tr>\n      <th>swinv2_base_window12to24_192to384_22kft1k</th>\n      <th>Linear</th>\n      <td>5.394785e+05</td>\n      <td>6.298387</td>\n      <td>6.615626e+05</td>\n      <td>3.152995e+06</td>\n    </tr>\n    <tr>\n      <th>vit_huge_patch14_clip_224</th>\n      <th>Linear</th>\n      <td>4.889886e+06</td>\n      <td>3.976744</td>\n      <td>7.344301e+05</td>\n      <td>1.952975e+07</td>\n    </tr>\n    <tr>\n      <th rowspan=\"2\" valign=\"top\">vit_huge_patch14_clip_336</th>\n      <th>Conv2d</th>\n      <td>7.526400e+05</td>\n      <td>2.000000</td>\n      <td>7.372800e+05</td>\n      <td>1.505280e+06</td>\n    </tr>\n    <tr>\n      <th>LayerNorm</th>\n      <td>2.560000e+03</td>\n      <td>2.939394</td>\n      <td>7.385600e+05</td>\n      <td>7.524848e+03</td>\n    </tr>\n    <tr>\n      <th>swinv2_large_window12to16_192to256_22kft1k</th>\n      <th>Conv2d</th>\n      <td>9.408000e+03</td>\n      <td>2.000000</td>\n      <td>7.864320e+05</td>\n      <td>1.881600e+04</td>\n    </tr>\n    <tr>\n      <th>swinv2_large_window12to24_192to384_22kft1k</th>\n      <th>Linear</th>\n      <td>1.205650e+06</td>\n      <td>6.298387</td>\n      <td>8.898242e+05</td>\n      <td>7.074663e+06</td>\n    </tr>\n    <tr>\n      <th>tf_efficientnet_b7</th>\n      <th>Conv2d</th>\n      <td>2.366704e+05</td>\n      <td>4.399254</td>\n      <td>1.033807e+06</td>\n      <td>9.730170e+05</td>\n    </tr>\n    <tr>\n      <th>swinv2_base_window12to24_192to384_22kft1k</th>\n      <th>Conv2d</th>\n      <td>6.272000e+03</td>\n      <td>2.000000</td>\n      <td>1.179648e+06</td>\n      <td>1.254400e+04</td>\n    </tr>\n    <tr>\n      <th>vit_large_patch14_clip_336</th>\n      <th>Linear</th>\n      <td>3.126145e+06</td>\n      <td>3.969072</td>\n      <td>1.315713e+06</td>\n      <td>1.247288e+07</td>\n    </tr>\n    <tr>\n      <th>vit_huge_patch14_clip_336</th>\n      <th>Linear</th>\n      <td>4.889886e+06</td>\n      <td>3.976744</td>\n      <td>1.648886e+06</td>\n      <td>1.952975e+07</td>\n    </tr>\n    <tr>\n      <th>swinv2_large_window12to24_192to384_22kft1k</th>\n      <th>Conv2d</th>\n      <td>9.408000e+03</td>\n      <td>2.000000</td>\n      <td>1.769472e+06</td>\n      <td>1.881600e+04</td>\n    </tr>\n    <tr>\n      <th>tf_efficientnet_b7</th>\n      <th>Conv2dSame</th>\n      <td>9.715200e+03</td>\n      <td>3.400000</td>\n      <td>2.575661e+06</td>\n      <td>3.782400e+04</td>\n    </tr>\n  </tbody>\n</table>\n</div>"
     },
     "execution_count": 7,
     "metadata": {},
     "output_type": "execute_result"
    }
   ],
   "source": [
    "gp_df_trans.sort_values(by=[\"output_size\"])"
   ],
   "metadata": {
    "collapsed": false,
    "ExecuteTime": {
     "start_time": "2023-03-21T18:42:48.824139Z",
     "end_time": "2023-03-21T18:42:48.855460Z"
    }
   }
  },
  {
   "cell_type": "code",
   "execution_count": 10,
   "outputs": [
    {
     "data": {
      "text/plain": "array(['Conv2d', 'BatchNorm2d', 'ReLU', 'MaxPool2d', 'Identity',\n       'AvgPool2d', 'AdaptiveAvgPool2d', 'Flatten', 'Linear',\n       'Conv2dSame', 'SiLU', 'Sigmoid', 'Dropout', 'LayerNorm', 'GELU',\n       'Softmax', 'DropPath'], dtype=object)"
     },
     "execution_count": 10,
     "metadata": {},
     "output_type": "execute_result"
    }
   ],
   "source": [
    "df_trans[\"layer\"].unique()"
   ],
   "metadata": {
    "collapsed": false,
    "ExecuteTime": {
     "start_time": "2023-03-21T19:20:07.873490Z",
     "end_time": "2023-03-21T19:20:07.878214Z"
    }
   }
  },
  {
   "cell_type": "code",
   "execution_count": null,
   "outputs": [],
   "source": [],
   "metadata": {
    "collapsed": false
   }
  }
 ],
 "metadata": {
  "kernelspec": {
   "display_name": "Python 3",
   "language": "python",
   "name": "python3"
  },
  "language_info": {
   "codemirror_mode": {
    "name": "ipython",
    "version": 2
   },
   "file_extension": ".py",
   "mimetype": "text/x-python",
   "name": "python",
   "nbconvert_exporter": "python",
   "pygments_lexer": "ipython2",
   "version": "2.7.6"
  }
 },
 "nbformat": 4,
 "nbformat_minor": 0
}
