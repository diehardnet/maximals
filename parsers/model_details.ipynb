{
 "cells": [
  {
   "cell_type": "code",
   "execution_count": 1,
   "metadata": {
    "collapsed": true,
    "ExecuteTime": {
     "end_time": "2023-05-13T15:33:24.176004580Z",
     "start_time": "2023-05-13T15:33:24.042749141Z"
    }
   },
   "outputs": [],
   "source": [
    "import pandas as pd\n",
    "\n",
    "OUTPUT_DATABASE = \"../data/profile_layers.csv\"\n",
    "EVA_LARGE_PATCH14_448_MIM = \"eva02_large_patch14_448.mim_in22k_ft_in22k_in1k\"\n",
    "VIT_HUGE_PATCH14_CLIP_224 = \"vit_huge_patch14_clip_224.laion2b_ft_in12k_in1k\"\n"
   ]
  },
  {
   "cell_type": "markdown",
   "source": [
    "# Transformers models characteristics"
   ],
   "metadata": {
    "collapsed": false
   }
  },
  {
   "cell_type": "code",
   "execution_count": 2,
   "outputs": [],
   "source": [
    "df_trans = pd.read_csv(OUTPUT_DATABASE)"
   ],
   "metadata": {
    "collapsed": false,
    "ExecuteTime": {
     "end_time": "2023-05-13T15:33:24.223153362Z",
     "start_time": "2023-05-13T15:33:24.177473030Z"
    }
   }
  },
  {
   "cell_type": "code",
   "execution_count": 3,
   "outputs": [
    {
     "data": {
      "text/plain": "                                                  net        layer  \\\n0                                           resnet50d       ResNet   \n1                                           resnet50d   Sequential   \n2                                           resnet50d       Conv2d   \n3                                           resnet50d  BatchNorm2d   \n4                                           resnet50d         ReLU   \n...                                               ...          ...   \n10790  eva02_base_patch14_448.mim_in22k_ft_in22k_in1k      Dropout   \n10791  eva02_base_patch14_448.mim_in22k_ft_in22k_in1k     Identity   \n10792  eva02_base_patch14_448.mim_in22k_ft_in22k_in1k     Identity   \n10793  eva02_base_patch14_448.mim_in22k_ft_in22k_in1k    LayerNorm   \n10794  eva02_base_patch14_448.mim_in22k_ft_in22k_in1k       Linear   \n\n         var_name  layer_params  depth  output_size  \n0          ResNet      25576264      0         1000  \n1           conv1         28640      1       802816  \n2               0           864      2       401408  \n3               1            64      2       401408  \n4               2             0      2       401408  \n...           ...           ...    ...          ...  \n10790       drop2             0      4       787200  \n10791  drop_path2             0      3       787200  \n10792        norm             0      1       787200  \n10793     fc_norm          1536      1          768  \n10794        head        769000      1         1000  \n\n[10795 rows x 6 columns]",
      "text/html": "<div>\n<style scoped>\n    .dataframe tbody tr th:only-of-type {\n        vertical-align: middle;\n    }\n\n    .dataframe tbody tr th {\n        vertical-align: top;\n    }\n\n    .dataframe thead th {\n        text-align: right;\n    }\n</style>\n<table border=\"1\" class=\"dataframe\">\n  <thead>\n    <tr style=\"text-align: right;\">\n      <th></th>\n      <th>net</th>\n      <th>layer</th>\n      <th>var_name</th>\n      <th>layer_params</th>\n      <th>depth</th>\n      <th>output_size</th>\n    </tr>\n  </thead>\n  <tbody>\n    <tr>\n      <th>0</th>\n      <td>resnet50d</td>\n      <td>ResNet</td>\n      <td>ResNet</td>\n      <td>25576264</td>\n      <td>0</td>\n      <td>1000</td>\n    </tr>\n    <tr>\n      <th>1</th>\n      <td>resnet50d</td>\n      <td>Sequential</td>\n      <td>conv1</td>\n      <td>28640</td>\n      <td>1</td>\n      <td>802816</td>\n    </tr>\n    <tr>\n      <th>2</th>\n      <td>resnet50d</td>\n      <td>Conv2d</td>\n      <td>0</td>\n      <td>864</td>\n      <td>2</td>\n      <td>401408</td>\n    </tr>\n    <tr>\n      <th>3</th>\n      <td>resnet50d</td>\n      <td>BatchNorm2d</td>\n      <td>1</td>\n      <td>64</td>\n      <td>2</td>\n      <td>401408</td>\n    </tr>\n    <tr>\n      <th>4</th>\n      <td>resnet50d</td>\n      <td>ReLU</td>\n      <td>2</td>\n      <td>0</td>\n      <td>2</td>\n      <td>401408</td>\n    </tr>\n    <tr>\n      <th>...</th>\n      <td>...</td>\n      <td>...</td>\n      <td>...</td>\n      <td>...</td>\n      <td>...</td>\n      <td>...</td>\n    </tr>\n    <tr>\n      <th>10790</th>\n      <td>eva02_base_patch14_448.mim_in22k_ft_in22k_in1k</td>\n      <td>Dropout</td>\n      <td>drop2</td>\n      <td>0</td>\n      <td>4</td>\n      <td>787200</td>\n    </tr>\n    <tr>\n      <th>10791</th>\n      <td>eva02_base_patch14_448.mim_in22k_ft_in22k_in1k</td>\n      <td>Identity</td>\n      <td>drop_path2</td>\n      <td>0</td>\n      <td>3</td>\n      <td>787200</td>\n    </tr>\n    <tr>\n      <th>10792</th>\n      <td>eva02_base_patch14_448.mim_in22k_ft_in22k_in1k</td>\n      <td>Identity</td>\n      <td>norm</td>\n      <td>0</td>\n      <td>1</td>\n      <td>787200</td>\n    </tr>\n    <tr>\n      <th>10793</th>\n      <td>eva02_base_patch14_448.mim_in22k_ft_in22k_in1k</td>\n      <td>LayerNorm</td>\n      <td>fc_norm</td>\n      <td>1536</td>\n      <td>1</td>\n      <td>768</td>\n    </tr>\n    <tr>\n      <th>10794</th>\n      <td>eva02_base_patch14_448.mim_in22k_ft_in22k_in1k</td>\n      <td>Linear</td>\n      <td>head</td>\n      <td>769000</td>\n      <td>1</td>\n      <td>1000</td>\n    </tr>\n  </tbody>\n</table>\n<p>10795 rows × 6 columns</p>\n</div>"
     },
     "execution_count": 3,
     "metadata": {},
     "output_type": "execute_result"
    }
   ],
   "source": [
    "df_trans"
   ],
   "metadata": {
    "collapsed": false,
    "ExecuteTime": {
     "end_time": "2023-05-13T15:33:24.223668634Z",
     "start_time": "2023-05-13T15:33:24.222921313Z"
    }
   }
  },
  {
   "cell_type": "code",
   "execution_count": 4,
   "outputs": [],
   "source": [
    "df_trans[\"var_name_layer\"] =  df_trans[\"var_name\"]\n",
    "df_trans.loc[df_trans[\"layer\"].str.lower().str.contains(\"block\"), \"var_name_layer\"] = \"Block\"\n"
   ],
   "metadata": {
    "collapsed": false,
    "ExecuteTime": {
     "end_time": "2023-05-13T15:33:24.223839388Z",
     "start_time": "2023-05-13T15:33:24.223380771Z"
    }
   }
  },
  {
   "cell_type": "code",
   "execution_count": 5,
   "outputs": [],
   "source": [
    "var_names = ['norm', 'attn', 'block', 'mlp', 'stage', \"swiglu\", \"gelu\", \"act\"]\n",
    "# filter the dataframe by var_name substrings\n",
    "df_filtered = df_trans[df_trans['var_name_layer'].str.lower().str.contains('|'.join(var_names))]\n",
    "\n",
    "# group by 'net' and 'var_name', and get the index of the row with the highest 'layer_params'\n",
    "idx = df_filtered.groupby(['net', 'var_name_layer'])['output_size'].idxmax()\n",
    "\n",
    "# select the rows with the highest 'layer_params' using the index\n",
    "result = df_filtered.loc[idx]"
   ],
   "metadata": {
    "collapsed": false,
    "ExecuteTime": {
     "end_time": "2023-05-13T15:33:24.294472821Z",
     "start_time": "2023-05-13T15:33:24.223565557Z"
    }
   }
  },
  {
   "cell_type": "code",
   "execution_count": 6,
   "outputs": [],
   "source": [
    "# As we cannot use all of them select two. Best accuracy\n",
    "# -- vit_huge_patch14_clip_224.laion2b_ft_in12k_in1k 88.3%\n",
    "# -- eva02_large_patch14_448.mim_in22k_ft_in22k_in1k 89.94\n",
    "subset_of_models = [EVA_LARGE_PATCH14_448_MIM, VIT_HUGE_PATCH14_CLIP_224]"
   ],
   "metadata": {
    "collapsed": false,
    "ExecuteTime": {
     "end_time": "2023-05-13T15:33:24.294757017Z",
     "start_time": "2023-05-13T15:33:24.262971560Z"
    }
   }
  },
  {
   "cell_type": "code",
   "execution_count": 7,
   "outputs": [],
   "source": [
    "result = result[\n",
    "    (result[\"layer\"] != \"Identity\") &\n",
    "    (result[\"layer\"] != \"Dropout\") &\n",
    "    (result[\"layer\"] != \"Sequential\") &\n",
    "\n",
    "    (result[\"net\"].isin(subset_of_models))\n",
    "    ]"
   ],
   "metadata": {
    "collapsed": false,
    "ExecuteTime": {
     "end_time": "2023-05-13T15:33:24.294863529Z",
     "start_time": "2023-05-13T15:33:24.263170027Z"
    }
   }
  },
  {
   "cell_type": "code",
   "execution_count": 8,
   "outputs": [],
   "source": [
    "result = result[~result[\"var_name\"].isin([\"norm1\", \"norm2\", \"norm_pre\"])]"
   ],
   "metadata": {
    "collapsed": false,
    "ExecuteTime": {
     "end_time": "2023-05-13T15:33:24.294944908Z",
     "start_time": "2023-05-13T15:33:24.263295428Z"
    }
   }
  },
  {
   "cell_type": "code",
   "execution_count": 9,
   "outputs": [
    {
     "data": {
      "text/plain": "                                                  net        layer  \\\n0                                           resnet50d       ResNet   \n1                                           resnet50d   Sequential   \n2                                           resnet50d       Conv2d   \n3                                           resnet50d  BatchNorm2d   \n4                                           resnet50d         ReLU   \n...                                               ...          ...   \n10790  eva02_base_patch14_448.mim_in22k_ft_in22k_in1k      Dropout   \n10791  eva02_base_patch14_448.mim_in22k_ft_in22k_in1k     Identity   \n10792  eva02_base_patch14_448.mim_in22k_ft_in22k_in1k     Identity   \n10793  eva02_base_patch14_448.mim_in22k_ft_in22k_in1k    LayerNorm   \n10794  eva02_base_patch14_448.mim_in22k_ft_in22k_in1k       Linear   \n\n         var_name  layer_params  depth  output_size var_name_layer  \n0          ResNet      25576264      0         1000         ResNet  \n1           conv1         28640      1       802816          conv1  \n2               0           864      2       401408              0  \n3               1            64      2       401408              1  \n4               2             0      2       401408              2  \n...           ...           ...    ...          ...            ...  \n10790       drop2             0      4       787200          drop2  \n10791  drop_path2             0      3       787200     drop_path2  \n10792        norm             0      1       787200           norm  \n10793     fc_norm          1536      1          768        fc_norm  \n10794        head        769000      1         1000           head  \n\n[10795 rows x 7 columns]",
      "text/html": "<div>\n<style scoped>\n    .dataframe tbody tr th:only-of-type {\n        vertical-align: middle;\n    }\n\n    .dataframe tbody tr th {\n        vertical-align: top;\n    }\n\n    .dataframe thead th {\n        text-align: right;\n    }\n</style>\n<table border=\"1\" class=\"dataframe\">\n  <thead>\n    <tr style=\"text-align: right;\">\n      <th></th>\n      <th>net</th>\n      <th>layer</th>\n      <th>var_name</th>\n      <th>layer_params</th>\n      <th>depth</th>\n      <th>output_size</th>\n      <th>var_name_layer</th>\n    </tr>\n  </thead>\n  <tbody>\n    <tr>\n      <th>0</th>\n      <td>resnet50d</td>\n      <td>ResNet</td>\n      <td>ResNet</td>\n      <td>25576264</td>\n      <td>0</td>\n      <td>1000</td>\n      <td>ResNet</td>\n    </tr>\n    <tr>\n      <th>1</th>\n      <td>resnet50d</td>\n      <td>Sequential</td>\n      <td>conv1</td>\n      <td>28640</td>\n      <td>1</td>\n      <td>802816</td>\n      <td>conv1</td>\n    </tr>\n    <tr>\n      <th>2</th>\n      <td>resnet50d</td>\n      <td>Conv2d</td>\n      <td>0</td>\n      <td>864</td>\n      <td>2</td>\n      <td>401408</td>\n      <td>0</td>\n    </tr>\n    <tr>\n      <th>3</th>\n      <td>resnet50d</td>\n      <td>BatchNorm2d</td>\n      <td>1</td>\n      <td>64</td>\n      <td>2</td>\n      <td>401408</td>\n      <td>1</td>\n    </tr>\n    <tr>\n      <th>4</th>\n      <td>resnet50d</td>\n      <td>ReLU</td>\n      <td>2</td>\n      <td>0</td>\n      <td>2</td>\n      <td>401408</td>\n      <td>2</td>\n    </tr>\n    <tr>\n      <th>...</th>\n      <td>...</td>\n      <td>...</td>\n      <td>...</td>\n      <td>...</td>\n      <td>...</td>\n      <td>...</td>\n      <td>...</td>\n    </tr>\n    <tr>\n      <th>10790</th>\n      <td>eva02_base_patch14_448.mim_in22k_ft_in22k_in1k</td>\n      <td>Dropout</td>\n      <td>drop2</td>\n      <td>0</td>\n      <td>4</td>\n      <td>787200</td>\n      <td>drop2</td>\n    </tr>\n    <tr>\n      <th>10791</th>\n      <td>eva02_base_patch14_448.mim_in22k_ft_in22k_in1k</td>\n      <td>Identity</td>\n      <td>drop_path2</td>\n      <td>0</td>\n      <td>3</td>\n      <td>787200</td>\n      <td>drop_path2</td>\n    </tr>\n    <tr>\n      <th>10792</th>\n      <td>eva02_base_patch14_448.mim_in22k_ft_in22k_in1k</td>\n      <td>Identity</td>\n      <td>norm</td>\n      <td>0</td>\n      <td>1</td>\n      <td>787200</td>\n      <td>norm</td>\n    </tr>\n    <tr>\n      <th>10793</th>\n      <td>eva02_base_patch14_448.mim_in22k_ft_in22k_in1k</td>\n      <td>LayerNorm</td>\n      <td>fc_norm</td>\n      <td>1536</td>\n      <td>1</td>\n      <td>768</td>\n      <td>fc_norm</td>\n    </tr>\n    <tr>\n      <th>10794</th>\n      <td>eva02_base_patch14_448.mim_in22k_ft_in22k_in1k</td>\n      <td>Linear</td>\n      <td>head</td>\n      <td>769000</td>\n      <td>1</td>\n      <td>1000</td>\n      <td>head</td>\n    </tr>\n  </tbody>\n</table>\n<p>10795 rows × 7 columns</p>\n</div>"
     },
     "execution_count": 9,
     "metadata": {},
     "output_type": "execute_result"
    }
   ],
   "source": [
    "df_trans"
   ],
   "metadata": {
    "collapsed": false,
    "ExecuteTime": {
     "end_time": "2023-05-13T15:33:24.309624046Z",
     "start_time": "2023-05-13T15:33:24.263406763Z"
    }
   }
  },
  {
   "cell_type": "code",
   "execution_count": 9,
   "outputs": [],
   "source": [],
   "metadata": {
    "collapsed": false,
    "ExecuteTime": {
     "end_time": "2023-05-13T15:33:24.309953615Z",
     "start_time": "2023-05-13T15:33:24.281458480Z"
    }
   }
  }
 ],
 "metadata": {
  "kernelspec": {
   "display_name": "Python 3",
   "language": "python",
   "name": "python3"
  },
  "language_info": {
   "codemirror_mode": {
    "name": "ipython",
    "version": 2
   },
   "file_extension": ".py",
   "mimetype": "text/x-python",
   "name": "python",
   "nbconvert_exporter": "python",
   "pygments_lexer": "ipython2",
   "version": "2.7.6"
  }
 },
 "nbformat": 4,
 "nbformat_minor": 0
}
